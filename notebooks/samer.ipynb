{
 "cells": [
  {
   "cell_type": "markdown",
   "metadata": {},
   "source": [
    "# Data Science Project: [Project Title]\n",
    "\n",
    "**Author**: Samer Eladad"
   ]
  },
  {
   "cell_type": "markdown",
   "metadata": {},
   "source": [
    "**Entry Date**: 18.02."
   ]
  },
  {
   "cell_type": "code",
   "execution_count": null,
   "metadata": {},
   "outputs": [],
   "source": []
  },
  {
   "cell_type": "markdown",
   "metadata": {},
   "source": [
    "### First task: Analyze the Netflix dataset"
   ]
  },
  {
   "cell_type": "markdown",
   "metadata": {},
   "source": [
    "**Challenge 1**: Not all required information can be found on the Netflix DS\n",
    "**Solution**: We will use a new DS 'IMDB Movies Dataset' and join on Movie names. "
   ]
  },
  {
   "cell_type": "code",
   "execution_count": 3,
   "metadata": {},
   "outputs": [
    {
     "data": {
      "text/plain": [
       "\"\\n-- Select all Netflix Movies\\nSELECT Netflix.title\\nFROM Netflix\\nWHERE Netflix.type = 'Movie' \\n\""
      ]
     },
     "execution_count": 3,
     "metadata": {},
     "output_type": "execute_result"
    }
   ],
   "source": [
    "'''\n",
    "-- Select all Netflix Movies\n",
    "SELECT Netflix.title\n",
    "FROM Netflix\n",
    "WHERE Netflix.type = 'Movie' \n",
    "'''\n",
    "# There are 6131 movies in the Netflix database"
   ]
  },
  {
   "cell_type": "code",
   "execution_count": 4,
   "metadata": {},
   "outputs": [
    {
     "data": {
      "text/plain": [
       "'\\n-- Select all IMDB Movies\\nSELECT DISTINCT IMDB.Series_Title\\nFROM IMDB'"
      ]
     },
     "execution_count": 4,
     "metadata": {},
     "output_type": "execute_result"
    }
   ],
   "source": [
    "'''\n",
    "-- Select all IMDB Movies\n",
    "SELECT DISTINCT IMDB.Series_Title\n",
    "FROM IMDB'''\n",
    "# There are 999 movies in the IMDB database"
   ]
  },
  {
   "cell_type": "code",
   "execution_count": null,
   "metadata": {},
   "outputs": [],
   "source": [
    "'''\n",
    "-- Select Movies that are in the IMDB & Netflix DISTINCT\n",
    "SELECT IMDB.Series_Title\n",
    "FROM IMDB\n",
    "INNER JOIN Netflix ON IMDB.Series_Title = Netflix.title\n",
    "'''\n",
    "# There are only 172 movies that are in both databases"
   ]
  },
  {
   "cell_type": "code",
   "execution_count": null,
   "metadata": {},
   "outputs": [],
   "source": [
    "'''-- Check if there are any differences between IDMB Genre column and Netflix listed_in column\n",
    "SELECT IMDB.Series_Title, IMDB.Genre, Netflix.listed_in\n",
    "FROM IMDB\n",
    "INNER JOIN Netflix ON IMDB.Series_Title = Netflix.title\n",
    "'''\n",
    "# There are differences between the two columns (for example Action, Adventure vs. Action & Adventure)"
   ]
  },
  {
   "cell_type": "markdown",
   "metadata": {},
   "source": [
    "**Challenge 2**: Genre column on IMDB DS has slightly different information than listed_in column on Netflix DS.\n",
    "**Solution**: We will use IMDB Genre column for Movie Genres for now."
   ]
  },
  {
   "cell_type": "markdown",
   "metadata": {},
   "source": []
  }
 ],
 "metadata": {
  "kernelspec": {
   "display_name": "Python 3",
   "language": "python",
   "name": "python3"
  },
  "language_info": {
   "codemirror_mode": {
    "name": "ipython",
    "version": 3
   },
   "file_extension": ".py",
   "mimetype": "text/x-python",
   "name": "python",
   "nbconvert_exporter": "python",
   "pygments_lexer": "ipython3",
   "version": "3.11.5"
  },
  "orig_nbformat": 4
 },
 "nbformat": 4,
 "nbformat_minor": 2
}
