{
 "cells": [
  {
   "cell_type": "markdown",
   "metadata": {},
   "source": [
    "# Data Science Project: [Project Title]\n",
    "\n",
    "**Author**: Samer Eladad"
   ]
  },
  {
   "cell_type": "markdown",
   "metadata": {},
   "source": [
    "**Entry Date**: 18.02."
   ]
  },
  {
   "cell_type": "code",
   "execution_count": 6,
   "metadata": {},
   "outputs": [],
   "source": [
    "import pandas as pd\n",
    "\n",
    "# Define the paths to your datasets\n",
    "amazon_prime_path = '/Users/samer/Documents/github_repos/StreamSelect/OTT_SUGGESTER/data/raw/raw_amazon_prime.csv'\n",
    "disney_plus_path = '/Users/samer/Documents/github_repos/StreamSelect/OTT_SUGGESTER/data/raw/raw_disney_plus.csv'\n",
    "netflix_path = '/Users/samer/Documents/github_repos/StreamSelect/OTT_SUGGESTER/data/raw/raw_netflix.csv'\n",
    "imdb_path = '/Users/samer/Documents/github_repos/StreamSelect/OTT_SUGGESTER/data/raw/raw_imdb.csv'\n",
    "\n",
    "# Import the datasets into pandas DataFrames\n",
    "amazon_prime_df = pd.read_csv(amazon_prime_path)\n",
    "disney_plus_df = pd.read_csv(disney_plus_path)\n",
    "netflix_df = pd.read_csv(netflix_path)\n",
    "imdb_df = pd.read_csv(imdb_path)"
   ]
  },
  {
   "cell_type": "code",
   "execution_count": 9,
   "metadata": {},
   "outputs": [
    {
     "name": "stdout",
     "output_type": "stream",
     "text": [
      "\n",
      "Netflix column names:\n",
      "['show_id', 'type', 'title', 'director', 'cast', 'country', 'date_added', 'release_year', 'rating', 'duration', 'listed_in', 'description']\n"
     ]
    }
   ],
   "source": [
    "# Display Netflix Dataset column names\n",
    "print(\"\\nNetflix column names:\")\n",
    "print(netflix_df.columns.tolist())"
   ]
  },
  {
   "cell_type": "code",
   "execution_count": 10,
   "metadata": {},
   "outputs": [
    {
     "name": "stdout",
     "output_type": "stream",
     "text": [
      "\n",
      "IMDB Movies column names:\n",
      "['Poster_Link', 'Series_Title', 'Released_Year', 'Certificate', 'Runtime', 'Genre', 'IMDB_Rating', 'Overview', 'Meta_score', 'Director', 'Star1', 'Star2', 'Star3', 'Star4', 'No_of_Votes', 'Gross']\n"
     ]
    }
   ],
   "source": [
    "# Display IDMB Movies Dataset column names\n",
    "print(\"\\nIMDB Movies column names:\")\n",
    "print(imdb_df.columns.tolist())"
   ]
  },
  {
   "cell_type": "markdown",
   "metadata": {},
   "source": [
    "### First task: Analyze the Netflix dataset"
   ]
  },
  {
   "cell_type": "markdown",
   "metadata": {},
   "source": [
    "**Challenge 1**: Not all required information can be found on the Netflix DS</br>\n",
    "**Solution**: We will use a new DS 'IMDB Movies Dataset' and join on Movie names. "
   ]
  },
  {
   "cell_type": "code",
   "execution_count": 3,
   "metadata": {},
   "outputs": [
    {
     "data": {
      "text/plain": [
       "\"\\n-- Select all Netflix Movies\\nSELECT Netflix.title\\nFROM Netflix\\nWHERE Netflix.type = 'Movie' \\n\""
      ]
     },
     "execution_count": 3,
     "metadata": {},
     "output_type": "execute_result"
    }
   ],
   "source": [
    "'''\n",
    "-- Select all Netflix Movies\n",
    "SELECT Netflix.title\n",
    "FROM Netflix\n",
    "WHERE Netflix.type = 'Movie' \n",
    "'''\n",
    "# There are 6131 movies in the Netflix database"
   ]
  },
  {
   "cell_type": "code",
   "execution_count": 4,
   "metadata": {},
   "outputs": [
    {
     "data": {
      "text/plain": [
       "'\\n-- Select all IMDB Movies\\nSELECT DISTINCT IMDB.Series_Title\\nFROM IMDB'"
      ]
     },
     "execution_count": 4,
     "metadata": {},
     "output_type": "execute_result"
    }
   ],
   "source": [
    "'''\n",
    "-- Select all IMDB Movies\n",
    "SELECT DISTINCT IMDB.Series_Title\n",
    "FROM IMDB'''\n",
    "# There are 999 movies in the IMDB database"
   ]
  },
  {
   "cell_type": "code",
   "execution_count": null,
   "metadata": {},
   "outputs": [],
   "source": [
    "'''\n",
    "-- Select Movies that are in the IMDB & Netflix DISTINCT\n",
    "SELECT IMDB.Series_Title\n",
    "FROM IMDB\n",
    "INNER JOIN Netflix ON IMDB.Series_Title = Netflix.title\n",
    "'''\n",
    "# There are only 172 movies that are in both databases"
   ]
  },
  {
   "cell_type": "code",
   "execution_count": null,
   "metadata": {},
   "outputs": [],
   "source": [
    "'''-- Check if there are any differences between IDMB Genre column and Netflix listed_in column\n",
    "SELECT IMDB.Series_Title, IMDB.Genre, Netflix.listed_in\n",
    "FROM IMDB\n",
    "INNER JOIN Netflix ON IMDB.Series_Title = Netflix.title\n",
    "'''\n",
    "# There are differences between the two columns (for example Action, Adventure vs. Action & Adventure)"
   ]
  },
  {
   "cell_type": "markdown",
   "metadata": {},
   "source": [
    "**Challenge 2**: Genre column on IMDB DS has slightly different information than listed_in column on Netflix DS.</br>\n",
    "**Solution**: We will use IMDB Genre column for Movie Genres for now."
   ]
  },
  {
   "cell_type": "markdown",
   "metadata": {},
   "source": []
  }
 ],
 "metadata": {
  "kernelspec": {
   "display_name": "Python 3",
   "language": "python",
   "name": "python3"
  },
  "language_info": {
   "codemirror_mode": {
    "name": "ipython",
    "version": 3
   },
   "file_extension": ".py",
   "mimetype": "text/x-python",
   "name": "python",
   "nbconvert_exporter": "python",
   "pygments_lexer": "ipython3",
   "version": "3.11.5"
  },
  "orig_nbformat": 4
 },
 "nbformat": 4,
 "nbformat_minor": 2
}
