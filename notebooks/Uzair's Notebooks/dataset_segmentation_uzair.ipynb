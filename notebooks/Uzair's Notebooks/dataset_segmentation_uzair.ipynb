{
 "cells": [
  {
   "cell_type": "code",
   "execution_count": 51,
   "metadata": {},
   "outputs": [],
   "source": [
    "import pandas as pd\n",
    "import matplotlib.pyplot as plt\n",
    "\n",
    "'''AMAZON Prime Data'''\n",
    "\n",
    "prime_df = pd.read_csv(r'C:\\Users\\data science\\Downloads\\GitHub_Repositories\\OTT_SUGGESTER\\data\\raw\\raw_amazon_prime.csv')\n",
    "\n",
    "prime_df\n",
    "\n",
    "# Create empty Datafames for Prime_movies and Prime_series\n",
    "prime_movies_df = pd.DataFrame(columns=prime_df.columns)\n",
    "prime_series_df = pd.DataFrame(columns=prime_df.columns)\n",
    "\n",
    "# for index, row in prime_df.iterrows():\n",
    "#     if row['type'] == 'Movie':\n",
    "#         # df_row = pd.concat([df_row,row])\n",
    "#         prime_movies_df = pd.concat([prime_movies_df, row])\n",
    "#     elif row['type'] == 'TV Show':\n",
    "#         prime_series_df = pd.concat([prime_series_df, row])\n",
    "\n",
    "# Separate DatFrame based on the value of column 'type' \n",
    "prime_movies_df = prime_df[prime_df['type'] == 'Movie']\n",
    "prime_series_df = prime_df[prime_df['type'] == 'TV Show']\n",
    "\n",
    "# Write obtaied separated data frame to csv\n",
    "prime_movies_df.to_csv(r'C:\\Users\\data science\\Downloads\\GitHub_Repositories\\OTT_SUGGESTER\\data\\raw\\raw_prime_movies.csv')\n",
    "prime_series_df.to_csv(r'C:\\Users\\data science\\Downloads\\GitHub_Repositories\\OTT_SUGGESTER\\data\\raw\\raw_prime_series.csv')\n",
    "        \n",
    "        \n",
    "        "
   ]
  },
  {
   "cell_type": "code",
   "execution_count": 4,
   "metadata": {},
   "outputs": [],
   "source": [
    "'''Disney'''\n",
    "\n",
    "import pandas as pd\n",
    "disney_df = pd.read_csv(r'C:\\Users\\data science\\Downloads\\GitHub_Repositories\\OTT_SUGGESTER\\data\\raw\\raw_disney_plus.csv')\n",
    "\n",
    "# Create empty Datafames for disney_movies and disney_series\n",
    "disney_movies_df = pd.DataFrame(columns=disney_df.columns)\n",
    "disney_series_df = pd.DataFrame(columns=disney_df.columns)\n",
    "\n",
    "# Separate DatFrame based on the value of column 'type' \n",
    "disney_movies_df = disney_df[disney_df['type'] == 'Movie']\n",
    "disney_series_df = disney_df[disney_df['type'] == 'TV Show']\n"
   ]
  },
  {
   "cell_type": "code",
   "execution_count": 5,
   "metadata": {},
   "outputs": [],
   "source": [
    "'''Netflix'''\n",
    "\n",
    "import pandas as pd\n",
    "netflix_df = pd.read_csv(r'C:\\Users\\data science\\Downloads\\GitHub_Repositories\\OTT_SUGGESTER\\data\\raw\\raw_netflix.csv')\n",
    "\n",
    "# Create empty Datafames for netflix_movies and netflix_series\n",
    "netflix_movies_df = pd.DataFrame(columns=netflix_df.columns)\n",
    "netflix_series_df = pd.DataFrame(columns=netflix_df.columns)\n",
    "\n",
    "# Separate DatFrame based on the value of column 'type' \n",
    "netflix_movies_df = netflix_df[netflix_df['type'] == 'Movie']\n",
    "netflix_series_df = netflix_df[netflix_df['type'] == 'TV Show']\n"
   ]
  }
 ],
 "metadata": {
  "kernelspec": {
   "display_name": "Python 3",
   "language": "python",
   "name": "python3"
  },
  "language_info": {
   "codemirror_mode": {
    "name": "ipython",
    "version": 3
   },
   "file_extension": ".py",
   "mimetype": "text/x-python",
   "name": "python",
   "nbconvert_exporter": "python",
   "pygments_lexer": "ipython3",
   "version": "3.12.2"
  }
 },
 "nbformat": 4,
 "nbformat_minor": 2
}
