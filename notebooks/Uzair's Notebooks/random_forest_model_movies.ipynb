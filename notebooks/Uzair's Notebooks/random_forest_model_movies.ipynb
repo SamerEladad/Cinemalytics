{
 "cells": [
  {
   "cell_type": "markdown",
   "metadata": {},
   "source": [
    "# Random_Forest_Model"
   ]
  },
  {
   "cell_type": "markdown",
   "metadata": {},
   "source": [
    "#### Model without User Input and without corresponding testing"
   ]
  },
  {
   "cell_type": "code",
   "execution_count": 8,
   "metadata": {},
   "outputs": [
    {
     "name": "stdout",
     "output_type": "stream",
     "text": [
      "Accuracy on the test set: 0.8612\n",
      "Best Platform for the new movie: Prime Video\n"
     ]
    }
   ],
   "source": [
    "import pandas as pd\n",
    "from sklearn.model_selection import train_test_split\n",
    "from sklearn.ensemble import RandomForestClassifier\n",
    "from sklearn.preprocessing import LabelEncoder\n",
    "from sklearn.metrics import accuracy_score\n",
    "\n",
    "# Load the dataset\n",
    "df = pd.read_csv(r'C:\\Users\\data science\\Downloads\\GitHub_Repositories\\OTT_SUGGESTER\\data\\clean\\updated_clean_combined_movies.csv')\n",
    "\n",
    "# Encode 'genre' and 'age_rating' using LabelEncoder\n",
    "label_encoder_genre = LabelEncoder()\n",
    "df['genre_encoded'] = label_encoder_genre.fit_transform(df['genre'])\n",
    "\n",
    "label_encoder_age_rating = LabelEncoder()\n",
    "df['age_rating_encoded'] = label_encoder_age_rating.fit_transform(df['age_rating'])\n",
    "\n",
    "label_encoder_platform = LabelEncoder()\n",
    "df['platform_encoded'] = label_encoder_platform.fit_transform(df['platform'])\n",
    "\n",
    "# Select features and target variable for the model\n",
    "X = df[['genre_encoded', 'duration_min', 'age_rating_encoded']]  # Now includes encoded age_rating\n",
    "y = df['platform_encoded']\n",
    "\n",
    "# Split data into training and testing sets\n",
    "X_train, X_test, y_train, y_test = train_test_split(X, y, test_size=0.2, random_state=42)\n",
    "\n",
    "# Initialize and train a Random Forest Classifier\n",
    "clf = RandomForestClassifier(n_estimators=100, random_state=42)\n",
    "clf.fit(X_train, y_train)\n",
    "\n",
    "# Save the trained model\n",
    "dump(clf, r'C:\\Users\\data science\\Desktop\\OTT_project\\trained_models\\random_forest_model.joblib')\n",
    "\n",
    "# Save the label encoders\n",
    "dump(label_encoder_genre, r'C:\\Users\\data science\\Desktop\\OTT_project\\trained_models\\genre_encoder.joblib')\n",
    "dump(label_encoder_age_rating, r'C:\\Users\\data science\\Desktop\\OTT_project\\trained_models\\age_rating_encoder.joblib')\n",
    "dump(label_encoder_platform, r'C:\\Users\\data science\\Desktop\\OTT_project\\trained_models\\platform_encoder.joblib')\n",
    "\n",
    "\n",
    "# Predict on the test set and evaluate the model's accuracy\n",
    "y_pred = clf.predict(X_test)\n",
    "accuracy = accuracy_score(y_test, y_pred)\n",
    "\n",
    "# Predict the best platform for a new movie with 'Comedy' genre, 120 min duration, and 'R' age rating\n",
    "genre_input = 'Comedy'  # Placeholder, replace with user input\n",
    "age_rating_input = 'R'  # Placeholder, replace with user input\n",
    "\n",
    "# Transform inputs using the fitted LabelEncoders\n",
    "genre_encoded = label_encoder_genre.transform([genre_input])[0]\n",
    "age_rating_encoded = label_encoder_age_rating.transform([age_rating_input])[0]\n",
    "\n",
    "# Create DataFrame for the new movie\n",
    "new_movie = pd.DataFrame({'genre_encoded': [genre_encoded], 'duration_min': [120], 'age_rating_encoded': [age_rating_encoded]})\n",
    "\n",
    "# Use the trained classifier to predict the best platform\n",
    "predicted_platform_encoded = clf.predict(new_movie)\n",
    "predicted_platform = label_encoder_platform.inverse_transform(predicted_platform_encoded)\n",
    "\n",
    "print(f'Accuracy on the test set: {accuracy:.4f}')\n",
    "print(f'Best Platform for the new movie: {predicted_platform[0]}')\n"
   ]
  },
  {
   "cell_type": "code",
   "execution_count": 2,
   "metadata": {},
   "outputs": [
    {
     "data": {
      "text/plain": [
       "Index(['title', 'age_rating', 'duration_min', 'genre', 'budget', 'revenue',\n",
       "       'platform', 'genre_encoded', 'platform_encoded'],\n",
       "      dtype='object')"
      ]
     },
     "execution_count": 2,
     "metadata": {},
     "output_type": "execute_result"
    }
   ],
   "source": [
    "df.columns\n"
   ]
  },
  {
   "cell_type": "markdown",
   "metadata": {},
   "source": [
    "#### \"\"Model with user input and corresponding testing \"\""
   ]
  },
  {
   "cell_type": "code",
   "execution_count": 9,
   "metadata": {},
   "outputs": [
    {
     "name": "stdout",
     "output_type": "stream",
     "text": [
      "Accuracy on the test set: 0.8612\n",
      "Best Platform for the new movie: Prime Video\n"
     ]
    }
   ],
   "source": [
    "import pandas as pd\n",
    "from sklearn.model_selection import train_test_split\n",
    "from sklearn.ensemble import RandomForestClassifier\n",
    "from sklearn.preprocessing import LabelEncoder\n",
    "from sklearn.metrics import accuracy_score\n",
    "from joblib import dump\n",
    "\n",
    "\n",
    "# Load the dataset\n",
    "df = pd.read_csv(r'C:\\Users\\data science\\Downloads\\GitHub_Repositories\\OTT_SUGGESTER\\data\\clean\\updated_clean_combined_movies.csv')\n",
    "\n",
    "# Encode 'genre' and 'age_rating' using LabelEncoder\n",
    "label_encoder_genre = LabelEncoder()\n",
    "df['genre_encoded'] = label_encoder_genre.fit_transform(df['genre'])\n",
    "\n",
    "label_encoder_age_rating = LabelEncoder()\n",
    "df['age_rating_encoded'] = label_encoder_age_rating.fit_transform(df['age_rating'])\n",
    "\n",
    "label_encoder_platform = LabelEncoder()\n",
    "df['platform_encoded'] = label_encoder_platform.fit_transform(df['platform'])\n",
    "\n",
    "# Select features and target variable for the model\n",
    "X = df[['genre_encoded', 'duration_min', 'age_rating_encoded']]\n",
    "y = df['platform_encoded']\n",
    "\n",
    "# Split data into training and testing sets\n",
    "X_train, X_test, y_train, y_test = train_test_split(X, y, test_size=0.2, random_state=42)\n",
    "\n",
    "# Initialize and train a Random Forest Classifier\n",
    "clf = RandomForestClassifier(n_estimators=100, random_state=42)\n",
    "clf.fit(X_train, y_train)\n",
    "\n",
    "# Save the trained model\n",
    "dump(clf, r'C:\\Users\\data science\\Desktop\\OTT_project\\trained_models\\random_forest_model.joblib')\n",
    "\n",
    "# Save the label encoders\n",
    "dump(label_encoder_genre, r'C:\\Users\\data science\\Desktop\\OTT_project\\trained_models\\genre_encoder.joblib')\n",
    "dump(label_encoder_age_rating, r'C:\\Users\\data science\\Desktop\\OTT_project\\trained_models\\age_rating_encoder.joblib')\n",
    "dump(label_encoder_platform, r'C:\\Users\\data science\\Desktop\\OTT_project\\trained_models\\platform_encoder.joblib')\n",
    "\n",
    "# Predict on the test set and evaluate the model's accuracy\n",
    "y_pred = clf.predict(X_test)\n",
    "accuracy = accuracy_score(y_test, y_pred)\n",
    "\n",
    "# Gather user input\n",
    "genre_input = input(\"Enter the movie's genre: \")\n",
    "duration_input = int(input(\"Enter the movie's duration in minutes: \"))\n",
    "age_rating_input = input(\"Enter the movie's age rating: \")\n",
    "\n",
    "# Transform inputs using the fitted LabelEncoders\n",
    "try:\n",
    "    genre_encoded = label_encoder_genre.transform([genre_input])[0]\n",
    "    age_rating_encoded = label_encoder_age_rating.transform([age_rating_input])[0]\n",
    "except ValueError as e:\n",
    "    print(f\"Error: {e}. Please ensure your inputs match the dataset's categories.\")\n",
    "    exit()\n",
    "\n",
    "# Create DataFrame for the new movie\n",
    "new_movie = pd.DataFrame({'genre_encoded': [genre_encoded], 'duration_min': [duration_input], 'age_rating_encoded': [age_rating_encoded]})\n",
    "\n",
    "# Use the trained classifier to predict the best platform\n",
    "predicted_platform_encoded = clf.predict(new_movie)\n",
    "predicted_platform = label_encoder_platform.inverse_transform(predicted_platform_encoded)\n",
    "\n",
    "print(f'Accuracy on the test set: {accuracy:.4f}')\n",
    "print(f'Best Platform for the new movie: {predicted_platform[0]}')\n"
   ]
  },
  {
   "cell_type": "code",
   "execution_count": null,
   "metadata": {},
   "outputs": [],
   "source": []
  }
 ],
 "metadata": {
  "kernelspec": {
   "display_name": "Python 3",
   "language": "python",
   "name": "python3"
  },
  "language_info": {
   "codemirror_mode": {
    "name": "ipython",
    "version": 3
   },
   "file_extension": ".py",
   "mimetype": "text/x-python",
   "name": "python",
   "nbconvert_exporter": "python",
   "pygments_lexer": "ipython3",
   "version": "3.12.2"
  }
 },
 "nbformat": 4,
 "nbformat_minor": 2
}
