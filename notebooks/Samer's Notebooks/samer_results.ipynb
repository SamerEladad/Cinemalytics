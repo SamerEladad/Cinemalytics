{
 "cells": [
  {
   "cell_type": "markdown",
   "metadata": {},
   "source": [
    "# Data Science Project: TBD\n",
    "\n",
    "**Author**: Samer Eladad"
   ]
  },
  {
   "cell_type": "code",
   "execution_count": 1,
   "metadata": {},
   "outputs": [],
   "source": [
    "import pandas as pd\n",
    "import matplotlib.pyplot as plt\n",
    "import numpy as np"
   ]
  },
  {
   "cell_type": "code",
   "execution_count": 2,
   "metadata": {},
   "outputs": [],
   "source": [
    "# Clean combined movies dataset\n",
    "movies_clean_path = '/Users/samer/Documents/github_repos/StreamSelect/OTT_SUGGESTER/data/clean/clean_combined_movies.csv'\n",
    "movies_clean_df = pd.read_csv(movies_clean_path)\n",
    "\n",
    "# Clean combined series dataset\n",
    "series_clean_path = '/Users/samer/Documents/github_repos/StreamSelect/OTT_SUGGESTER/data/clean/clean_combined_series.csv'\n",
    "series_clean_df = pd.read_csv(series_clean_path)\n",
    "\n",
    "# Separate DataFrames by platform and content type\n",
    "netflix_movies_df = movies_clean_df[movies_clean_df['platform'] == 'Netflix']\n",
    "prime_video_movies_df = movies_clean_df[movies_clean_df['platform'] == 'Prime Video']\n",
    "disney_plus_movies_df = movies_clean_df[movies_clean_df['platform'] == 'Disney+']\n",
    "\n",
    "netflix_series_df = series_clean_df[series_clean_df['platform'] == 'Netflix']\n",
    "prime_video_series_df = series_clean_df[series_clean_df['platform'] == 'Prime Video']\n",
    "disney_plus_series_df = series_clean_df[series_clean_df['platform'] == 'Disney+']"
   ]
  },
  {
   "cell_type": "code",
   "execution_count": 4,
   "metadata": {},
   "outputs": [
    {
     "name": "stdout",
     "output_type": "stream",
     "text": [
      "\n",
      "Clean Combined Movies dataset column names:\n",
      "['title', 'country', 'release_year', 'rating', 'duration_min', 'genre', 'description', 'platform']\n"
     ]
    }
   ],
   "source": [
    "# Display Clean Movies dataset column names\n",
    "print(\"\\nClean Combined Movies dataset column names:\")\n",
    "print(movies_clean_df.columns.tolist())"
   ]
  },
  {
   "cell_type": "code",
   "execution_count": 5,
   "metadata": {},
   "outputs": [
    {
     "name": "stdout",
     "output_type": "stream",
     "text": [
      "\n",
      "Clean Combined Series dataset column names:\n",
      "['title', 'country', 'release_year', 'rating', 'duration_seasons', 'listed_in', 'description', 'platform']\n"
     ]
    }
   ],
   "source": [
    "# Display Clean Series dataset column names\n",
    "print(\"\\nClean Combined Series dataset column names:\")\n",
    "print(series_clean_df.columns.tolist())"
   ]
  },
  {
   "cell_type": "code",
   "execution_count": null,
   "metadata": {},
   "outputs": [],
   "source": []
  }
 ],
 "metadata": {
  "kernelspec": {
   "display_name": "base",
   "language": "python",
   "name": "python3"
  },
  "language_info": {
   "codemirror_mode": {
    "name": "ipython",
    "version": 3
   },
   "file_extension": ".py",
   "mimetype": "text/x-python",
   "name": "python",
   "nbconvert_exporter": "python",
   "pygments_lexer": "ipython3",
   "version": "3.11.5"
  },
  "orig_nbformat": 4
 },
 "nbformat": 4,
 "nbformat_minor": 2
}
