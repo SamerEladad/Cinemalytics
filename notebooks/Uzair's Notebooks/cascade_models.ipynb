{
 "cells": [
  {
   "cell_type": "markdown",
   "metadata": {},
   "source": [
    "## Random_Forest Model to Predict Platform\n",
    "\n",
    "#### -- Genre, Age_rating, Duration are selected as training features\n",
    "#### -- Predicts the platform for the given inputs"
   ]
  },
  {
   "cell_type": "code",
   "execution_count": 10,
   "metadata": {},
   "outputs": [
    {
     "name": "stdout",
     "output_type": "stream",
     "text": [
      "Accuracy on the test set: 0.7487\n",
      "Best Platform for the new movie: Prime Video\n"
     ]
    }
   ],
   "source": [
    "import pandas as pd\n",
    "from sklearn.model_selection import train_test_split\n",
    "from sklearn.ensemble import RandomForestClassifier\n",
    "from sklearn.preprocessing import LabelEncoder\n",
    "from sklearn.metrics import accuracy_score\n",
    "from joblib import dump\n",
    "import os\n",
    "\n",
    "\n",
    "# Load the dataset\n",
    "df = pd.read_csv(r'https://raw.githubusercontent.com/ulquyorra-11/Cinemalytics/5da1bd9f3c477cf9c5337f0881c5eeefb3e4115b/data/clean/updated_clean_combined_movies.csv')\n",
    "\n",
    "# Encode 'genre' and 'age_rating' using LabelEncoder\n",
    "label_encoder_genre = LabelEncoder()\n",
    "df['genre_encoded'] = label_encoder_genre.fit_transform(df['genre'])\n",
    "\n",
    "label_encoder_age_rating = LabelEncoder()\n",
    "df['age_rating_encoded'] = label_encoder_age_rating.fit_transform(df['age_rating'])\n",
    "\n",
    "label_encoder_platform = LabelEncoder()\n",
    "df['platform_encoded'] = label_encoder_platform.fit_transform(df['platform'])\n",
    "\n",
    "# Select features and target variable for the model\n",
    "X = df[['genre_encoded', 'duration_min', 'age_rating_encoded']]\n",
    "y = df['platform_encoded']\n",
    "\n",
    "# Split data into training and testing sets\n",
    "X_train, X_test, y_train, y_test = train_test_split(X, y, test_size=0.2, random_state=42)\n",
    "\n",
    "# Initialize and train a Random Forest Classifier\n",
    "clf = RandomForestClassifier(n_estimators=100, random_state=42)\n",
    "clf.fit(X_train, y_train)\n",
    "\n",
    "# Create directory to save models and encoders\n",
    "os.makedirs(r'trained_models')\n",
    "\n",
    "# Save the trained model\n",
    "dump(clf, r'trained_models\\random_forest_model.joblib')\n",
    "\n",
    "# Save the label encoders\n",
    "dump(label_encoder_genre, r'trained_models\\genre_encoder.joblib')\n",
    "dump(label_encoder_age_rating, r'trained_models\\age_rating_encoder.joblib')\n",
    "dump(label_encoder_platform, r'trained_models\\platform_encoder.joblib')\n",
    "\n",
    "# Predict on the test set and evaluate the model's accuracy\n",
    "y_pred = clf.predict(X_test)\n",
    "accuracy = accuracy_score(y_test, y_pred)\n",
    "\n",
    "# Gather user input\n",
    "genre_input = input(\"Enter the movie's genre: \")\n",
    "duration_input = int(input(\"Enter the movie's duration in minutes: \"))\n",
    "age_rating_input = input(\"Enter the movie's age rating: \")\n",
    "\n",
    "# Transform inputs using the fitted LabelEncoders\n",
    "try:\n",
    "    genre_encoded = label_encoder_genre.transform([genre_input])[0]\n",
    "    age_rating_encoded = label_encoder_age_rating.transform([age_rating_input])[0]\n",
    "except ValueError as e:\n",
    "    print(f\"Error: {e}. Please ensure your inputs match the dataset's categories.\")\n",
    "    exit()\n",
    "\n",
    "# Create DataFrame for the new movie\n",
    "new_movie = pd.DataFrame({'genre_encoded': [genre_encoded], 'duration_min': [duration_input], 'age_rating_encoded': [age_rating_encoded]})\n",
    "\n",
    "# Use the trained classifier to predict the best platform\n",
    "predicted_platform_encoded = clf.predict(new_movie)\n",
    "predicted_platform = label_encoder_platform.inverse_transform(predicted_platform_encoded)\n",
    "\n",
    "print(f'Accuracy on the test set: {accuracy:.4f}')\n",
    "print(f'Best Platform for the new movie: {predicted_platform[0]}')\n"
   ]
  },
  {
   "cell_type": "markdown",
   "metadata": {},
   "source": [
    "## Random_forest regressor model to predict Revenue\n",
    "\n",
    "#### -- Predicted Platform is provided as input for Testing\n",
    "#### -- Training features are Genre, Age_rating, Duration, Platform \n",
    "#### -- Predicts the approximate revenue for the given inputs"
   ]
  },
  {
   "cell_type": "code",
   "execution_count": 11,
   "metadata": {},
   "outputs": [
    {
     "name": "stdout",
     "output_type": "stream",
     "text": [
      "Mean Squared Error on the test set: 103883861231611712.0000\n",
      "Predicted Revenue for the new movie: 515733482.2258794\n"
     ]
    },
    {
     "name": "stderr",
     "output_type": "stream",
     "text": [
      "C:\\Users\\data science\\AppData\\Roaming\\Python\\Python312\\site-packages\\sklearn\\preprocessing\\_label.py:132: DataConversionWarning: A column-vector y was passed when a 1d array was expected. Please change the shape of y to (n_samples, ), for example using ravel().\n",
      "  y = column_or_1d(y, dtype=self.classes_.dtype, warn=True)\n"
     ]
    }
   ],
   "source": [
    "import pandas as pd\n",
    "from sklearn.model_selection import train_test_split\n",
    "from sklearn.ensemble import RandomForestRegressor\n",
    "from sklearn.preprocessing import LabelEncoder\n",
    "from sklearn.metrics import mean_squared_error\n",
    "import joblib\n",
    "\n",
    "# Load the dataset\n",
    "df = pd.read_csv(r'https://raw.githubusercontent.com/ulquyorra-11/Cinemalytics/5da1bd9f3c477cf9c5337f0881c5eeefb3e4115b/data/clean/updated_clean_combined_movies.csv')\n",
    "\n",
    "# Encode 'genre' and 'age_rating' using LabelEncoder\n",
    "label_encoder_genre = LabelEncoder()\n",
    "df['genre_encoded'] = label_encoder_genre.fit_transform(df['genre'])\n",
    "\n",
    "label_encoder_age_rating = LabelEncoder()\n",
    "df['age_rating_encoded'] = label_encoder_age_rating.fit_transform(df['age_rating'])\n",
    "\n",
    "label_encoder_platform = LabelEncoder()\n",
    "df['platform_encoded'] = label_encoder_platform.fit_transform(df['platform'])\n",
    "\n",
    "# Select features and target variable for the model\n",
    "X = df[['genre_encoded', 'duration_min', 'age_rating_encoded', 'platform_encoded']]  # Include 'revenue' as a feature\n",
    "y = df['revenue']  \n",
    "\n",
    "# Split data into training and testing sets\n",
    "X_train, X_test, y_train, y_test = train_test_split(X, y, test_size=0.2, random_state=42)\n",
    "\n",
    "# Initialize and train a Random Forest Regressor\n",
    "regressor = RandomForestRegressor(n_estimators=100, random_state=42)\n",
    "regressor.fit(X_train, y_train)\n",
    "\n",
    "# Save the trained model\n",
    "joblib.dump(regressor, r'trained_models\\random_forest_regressor_with_revenue.joblib')\n",
    "\n",
    "# Save the label encoders\n",
    "# joblib.dump(label_encoder_genre, r'C:\\Users\\uzair\\OneDrive\\Desktop\\Cinemalytics_project\\model\\regress\\genre_encoder.joblib')\n",
    "# joblib.dump(label_encoder_age_rating, r'C:\\Users\\uzair\\OneDrive\\Desktop\\Cinemalytics_project\\model\\regress\\age_rating_encoder.joblib')\n",
    "# joblib.dump(label_encoder_platform, r'C:\\Users\\uzair\\OneDrive\\Desktop\\Cinemalytics_project\\model\\regress\\platform_encoder.joblib')\n",
    "\n",
    "\n",
    "# Predict on the test set and evaluate the model's performance\n",
    "y_pred = regressor.predict(X_test)\n",
    "mse = mean_squared_error(y_test, y_pred)  # Calculate mean squared error\n",
    "\n",
    "print(f'Mean Squared Error on the test set: {mse:.4f}')\n",
    "\n",
    "# Predict the revenue for a new movie with 'Comedy' genre, 120 min duration, and 'R' age rating\n",
    "#genre_input = 'Comedy'  # Placeholder, replace with user input\n",
    "#age_rating_input = 'R'  # Placeholder, replace with user input\n",
    "#platform_input = 'Disney+'\n",
    "\n",
    "\n",
    "platform_input = predicted_platform\n",
    "\n",
    "# Transform inputs using the fitted LabelEncoders\n",
    "platform_encoded = label_encoder_platform.transform([platform_input])[0]\n",
    "\n",
    "# Create DataFrame for the new movie\n",
    "new_movie = pd.DataFrame({'genre_encoded': [genre_encoded], 'duration_min': [duration_input], 'age_rating_encoded': [age_rating_encoded], 'platform_encoded': [platform_encoded]})\n",
    "\n",
    "# Use the trained regressor to predict the revenue\n",
    "predicted_revenue = regressor.predict(new_movie)\n",
    "\n",
    "print(f'Predicted Revenue for the new movie: {predicted_revenue[0]}')\n"
   ]
  },
  {
   "cell_type": "code",
   "execution_count": null,
   "metadata": {},
   "outputs": [],
   "source": []
  }
 ],
 "metadata": {
  "kernelspec": {
   "display_name": "Python 3",
   "language": "python",
   "name": "python3"
  },
  "language_info": {
   "codemirror_mode": {
    "name": "ipython",
    "version": 3
   },
   "file_extension": ".py",
   "mimetype": "text/x-python",
   "name": "python",
   "nbconvert_exporter": "python",
   "pygments_lexer": "ipython3",
   "version": "3.12.2"
  }
 },
 "nbformat": 4,
 "nbformat_minor": 2
}
